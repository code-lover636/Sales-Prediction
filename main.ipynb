{
 "cells": [
  {
   "cell_type": "code",
   "execution_count": 12,
   "metadata": {},
   "outputs": [],
   "source": [
    "# %pip install pandas scikit-learn scikit-learn-intelex\n",
    "# %pip install xgboost"
   ]
  },
  {
   "cell_type": "code",
   "execution_count": 13,
   "metadata": {},
   "outputs": [
    {
     "name": "stderr",
     "output_type": "stream",
     "text": [
      "Intel(R) Extension for Scikit-learn* enabled (https://github.com/intel/scikit-learn-intelex)\n"
     ]
    }
   ],
   "source": [
    "from sklearn.model_selection import train_test_split\n",
    "from sklearn.ensemble import RandomForestRegressor, StackingRegressor, VotingRegressor\n",
    "from sklearn.pipeline import Pipeline\n",
    "from sklearn.compose import ColumnTransformer\n",
    "from sklearn.preprocessing import OneHotEncoder\n",
    "from sklearn.metrics import mean_squared_error, r2_score, accuracy_score\n",
    "import pandas as pd\n",
    "import xgboost as xgb\n",
    "from sklearnex import patch_sklearn\n",
    "patch_sklearn()"
   ]
  },
  {
   "cell_type": "code",
   "execution_count": 14,
   "metadata": {},
   "outputs": [
    {
     "data": {
      "text/html": [
       "<div>\n",
       "<style scoped>\n",
       "    .dataframe tbody tr th:only-of-type {\n",
       "        vertical-align: middle;\n",
       "    }\n",
       "\n",
       "    .dataframe tbody tr th {\n",
       "        vertical-align: top;\n",
       "    }\n",
       "\n",
       "    .dataframe thead th {\n",
       "        text-align: right;\n",
       "    }\n",
       "</style>\n",
       "<table border=\"1\" class=\"dataframe\">\n",
       "  <thead>\n",
       "    <tr style=\"text-align: right;\">\n",
       "      <th></th>\n",
       "      <th>row_id</th>\n",
       "      <th>date</th>\n",
       "      <th>state</th>\n",
       "      <th>store</th>\n",
       "      <th>product</th>\n",
       "      <th>num_sold</th>\n",
       "    </tr>\n",
       "  </thead>\n",
       "  <tbody>\n",
       "    <tr>\n",
       "      <th>0</th>\n",
       "      <td>0.0</td>\n",
       "      <td>01-01-2015</td>\n",
       "      <td>Kerala</td>\n",
       "      <td>ExcelMart</td>\n",
       "      <td>Mec Mug</td>\n",
       "      <td>329.0</td>\n",
       "    </tr>\n",
       "    <tr>\n",
       "      <th>1</th>\n",
       "      <td>1.0</td>\n",
       "      <td>01-01-2015</td>\n",
       "      <td>Kerala</td>\n",
       "      <td>ExcelMart</td>\n",
       "      <td>Mec Hat</td>\n",
       "      <td>520.0</td>\n",
       "    </tr>\n",
       "    <tr>\n",
       "      <th>2</th>\n",
       "      <td>2.0</td>\n",
       "      <td>01-01-2015</td>\n",
       "      <td>Kerala</td>\n",
       "      <td>ExcelMart</td>\n",
       "      <td>Mec Sticker</td>\n",
       "      <td>146.0</td>\n",
       "    </tr>\n",
       "    <tr>\n",
       "      <th>3</th>\n",
       "      <td>3.0</td>\n",
       "      <td>01-01-2015</td>\n",
       "      <td>Kerala</td>\n",
       "      <td>MecStore</td>\n",
       "      <td>Mec Mug</td>\n",
       "      <td>572.0</td>\n",
       "    </tr>\n",
       "    <tr>\n",
       "      <th>4</th>\n",
       "      <td>4.0</td>\n",
       "      <td>01-01-2015</td>\n",
       "      <td>Kerala</td>\n",
       "      <td>MecStore</td>\n",
       "      <td>Mec Hat</td>\n",
       "      <td>911.0</td>\n",
       "    </tr>\n",
       "    <tr>\n",
       "      <th>...</th>\n",
       "      <td>...</td>\n",
       "      <td>...</td>\n",
       "      <td>...</td>\n",
       "      <td>...</td>\n",
       "      <td>...</td>\n",
       "      <td>...</td>\n",
       "    </tr>\n",
       "    <tr>\n",
       "      <th>24585</th>\n",
       "      <td>NaN</td>\n",
       "      <td>NaN</td>\n",
       "      <td>NaN</td>\n",
       "      <td>NaN</td>\n",
       "      <td>NaN</td>\n",
       "      <td>NaN</td>\n",
       "    </tr>\n",
       "    <tr>\n",
       "      <th>24586</th>\n",
       "      <td>NaN</td>\n",
       "      <td>NaN</td>\n",
       "      <td>NaN</td>\n",
       "      <td>NaN</td>\n",
       "      <td>NaN</td>\n",
       "      <td>NaN</td>\n",
       "    </tr>\n",
       "    <tr>\n",
       "      <th>24587</th>\n",
       "      <td>NaN</td>\n",
       "      <td>NaN</td>\n",
       "      <td>NaN</td>\n",
       "      <td>NaN</td>\n",
       "      <td>NaN</td>\n",
       "      <td>NaN</td>\n",
       "    </tr>\n",
       "    <tr>\n",
       "      <th>24588</th>\n",
       "      <td>NaN</td>\n",
       "      <td>NaN</td>\n",
       "      <td>NaN</td>\n",
       "      <td>NaN</td>\n",
       "      <td>NaN</td>\n",
       "      <td>NaN</td>\n",
       "    </tr>\n",
       "    <tr>\n",
       "      <th>24589</th>\n",
       "      <td>NaN</td>\n",
       "      <td>NaN</td>\n",
       "      <td>NaN</td>\n",
       "      <td>NaN</td>\n",
       "      <td>NaN</td>\n",
       "      <td>NaN</td>\n",
       "    </tr>\n",
       "  </tbody>\n",
       "</table>\n",
       "<p>24590 rows × 6 columns</p>\n",
       "</div>"
      ],
      "text/plain": [
       "       row_id        date   state      store      product  num_sold\n",
       "0         0.0  01-01-2015  Kerala  ExcelMart      Mec Mug     329.0\n",
       "1         1.0  01-01-2015  Kerala  ExcelMart      Mec Hat     520.0\n",
       "2         2.0  01-01-2015  Kerala  ExcelMart  Mec Sticker     146.0\n",
       "3         3.0  01-01-2015  Kerala   MecStore      Mec Mug     572.0\n",
       "4         4.0  01-01-2015  Kerala   MecStore      Mec Hat     911.0\n",
       "...       ...         ...     ...        ...          ...       ...\n",
       "24585     NaN         NaN     NaN        NaN          NaN       NaN\n",
       "24586     NaN         NaN     NaN        NaN          NaN       NaN\n",
       "24587     NaN         NaN     NaN        NaN          NaN       NaN\n",
       "24588     NaN         NaN     NaN        NaN          NaN       NaN\n",
       "24589     NaN         NaN     NaN        NaN          NaN       NaN\n",
       "\n",
       "[24590 rows x 6 columns]"
      ]
     },
     "execution_count": 14,
     "metadata": {},
     "output_type": "execute_result"
    }
   ],
   "source": [
    "data = pd.read_csv(\"dataset/train.csv\")\n",
    "data"
   ]
  },
  {
   "cell_type": "code",
   "execution_count": 15,
   "metadata": {},
   "outputs": [],
   "source": [
    "data.dropna(inplace=True)"
   ]
  },
  {
   "cell_type": "code",
   "execution_count": 16,
   "metadata": {},
   "outputs": [],
   "source": [
    "X = data.drop('num_sold', axis=1)\n",
    "Y = data['num_sold']\n",
    "X_train, X_test, Y_train, Y_test = train_test_split(X, Y, test_size=0.2, random_state=0)"
   ]
  },
  {
   "cell_type": "code",
   "execution_count": 17,
   "metadata": {},
   "outputs": [],
   "source": [
    "categorical_features = ['state', 'store', 'product']\n",
    "categorical_transformer = Pipeline(steps=[\n",
    "    ('onehot', OneHotEncoder(handle_unknown='ignore'))\n",
    "])\n",
    "\n",
    "preprocessor = ColumnTransformer(\n",
    "    transformers=[\n",
    "        ('cat', categorical_transformer, categorical_features)\n",
    "    ])\n"
   ]
  },
  {
   "cell_type": "code",
   "execution_count": 18,
   "metadata": {},
   "outputs": [],
   "source": [
    "base_models = [\n",
    "    ('rf', RandomForestRegressor(random_state=0)),\n",
    "    ('xgb', xgb.XGBRegressor(random_state=0))\n",
    "]\n",
    "\n",
    "# Define the stacking regressor with the base models\n",
    "stacked_regressor = StackingRegressor(\n",
    "    estimators=base_models,\n",
    "    final_estimator=RandomForestRegressor(random_state=0)  # Meta-model\n",
    ")\n",
    "\n",
    "# Create a pipeline\n",
    "boosted_regressor = Pipeline([\n",
    "    ('preprocessor', preprocessor),\n",
    "    ('stacked_regressor', stacked_regressor)\n",
    "])"
   ]
  },
  {
   "cell_type": "code",
   "execution_count": 19,
   "metadata": {},
   "outputs": [],
   "source": [
    "# rf_regressor = RandomForestRegressor(random_state=0)\n",
    "\n",
    "# # Define the XGBoost model\n",
    "# xgb_regressor = xgb.XGBRegressor(random_state=0)\n",
    "\n",
    "# # Combine the RandomForestRegressor and XGBoost models in a VotingRegressor\n",
    "# boosted_regressor = Pipeline(steps=[('preprocessor', preprocessor),\n",
    "#                                     ('ensemble', VotingRegressor([('rf', rf_regressor), ('xgb', xgb_regressor)]))])\n"
   ]
  },
  {
   "cell_type": "code",
   "execution_count": 20,
   "metadata": {},
   "outputs": [],
   "source": [
    "boosted_regressor.fit(X_train, Y_train)\n",
    "Y_pred = boosted_regressor.predict(X_test)"
   ]
  },
  {
   "cell_type": "code",
   "execution_count": 21,
   "metadata": {},
   "outputs": [],
   "source": [
    "import pickle\n",
    "\n",
    "# Save the trained model to a file\n",
    "with open('model3.pkl', 'wb') as file:\n",
    "    pickle.dump(boosted_regressor, file)"
   ]
  },
  {
   "cell_type": "code",
   "execution_count": 22,
   "metadata": {},
   "outputs": [
    {
     "name": "stdout",
     "output_type": "stream",
     "text": [
      "Mean Squared Error: 13559.944094361248\n",
      "R2 Score: 0.8072963378962021\n"
     ]
    }
   ],
   "source": [
    "mse = mean_squared_error(Y_test, Y_pred)\n",
    "print(\"Mean Squared Error:\", mse)\n",
    "\n",
    "r2 = r2_score(Y_test, Y_pred)\n",
    "print(\"R2 Score:\", r2)"
   ]
  }
 ],
 "metadata": {
  "kernelspec": {
   "display_name": "venv",
   "language": "python",
   "name": "python3"
  },
  "language_info": {
   "codemirror_mode": {
    "name": "ipython",
    "version": 3
   },
   "file_extension": ".py",
   "mimetype": "text/x-python",
   "name": "python",
   "nbconvert_exporter": "python",
   "pygments_lexer": "ipython3",
   "version": "3.11.8"
  }
 },
 "nbformat": 4,
 "nbformat_minor": 2
}
